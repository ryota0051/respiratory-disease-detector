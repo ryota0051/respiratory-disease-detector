{
 "cells": [
  {
   "cell_type": "code",
   "execution_count": 1,
   "id": "1d81810c-61b3-4b67-b53c-2840a660bd76",
   "metadata": {},
   "outputs": [],
   "source": [
    "from pathlib import Path\n",
    "\n",
    "import numpy as np\n",
    "import pandas as pd\n",
    "import matplotlib.pyplot as plt\n",
    "import seaborn as sns\n",
    "import librosa as lb\n",
    "import librosa.display\n",
    "from sklearn.model_selection import train_test_split"
   ]
  },
  {
   "cell_type": "markdown",
   "id": "9f89b4f4-126e-4c16-b708-39ec7b87f4ed",
   "metadata": {},
   "source": [
    "## 病気の種類分布確認"
   ]
  },
  {
   "cell_type": "code",
   "execution_count": 2,
   "id": "ddaad1e9-cbf4-46c6-996f-7810a9f0bf2c",
   "metadata": {},
   "outputs": [
    {
     "data": {
      "text/html": [
       "<div>\n",
       "<style scoped>\n",
       "    .dataframe tbody tr th:only-of-type {\n",
       "        vertical-align: middle;\n",
       "    }\n",
       "\n",
       "    .dataframe tbody tr th {\n",
       "        vertical-align: top;\n",
       "    }\n",
       "\n",
       "    .dataframe thead th {\n",
       "        text-align: right;\n",
       "    }\n",
       "</style>\n",
       "<table border=\"1\" class=\"dataframe\">\n",
       "  <thead>\n",
       "    <tr style=\"text-align: right;\">\n",
       "      <th></th>\n",
       "      <th>pid</th>\n",
       "      <th>disease</th>\n",
       "    </tr>\n",
       "  </thead>\n",
       "  <tbody>\n",
       "    <tr>\n",
       "      <th>0</th>\n",
       "      <td>101</td>\n",
       "      <td>URTI</td>\n",
       "    </tr>\n",
       "    <tr>\n",
       "      <th>1</th>\n",
       "      <td>102</td>\n",
       "      <td>Healthy</td>\n",
       "    </tr>\n",
       "    <tr>\n",
       "      <th>2</th>\n",
       "      <td>103</td>\n",
       "      <td>Asthma</td>\n",
       "    </tr>\n",
       "    <tr>\n",
       "      <th>3</th>\n",
       "      <td>104</td>\n",
       "      <td>COPD</td>\n",
       "    </tr>\n",
       "    <tr>\n",
       "      <th>4</th>\n",
       "      <td>105</td>\n",
       "      <td>URTI</td>\n",
       "    </tr>\n",
       "  </tbody>\n",
       "</table>\n",
       "</div>"
      ],
      "text/plain": [
       "   pid  disease\n",
       "0  101     URTI\n",
       "1  102  Healthy\n",
       "2  103   Asthma\n",
       "3  104     COPD\n",
       "4  105     URTI"
      ]
     },
     "execution_count": 2,
     "metadata": {},
     "output_type": "execute_result"
    }
   ],
   "source": [
    "diagnosis = pd.read_csv('../dataset/Respiratory_Sound_Database/Respiratory_Sound_Database/Respiratory_Sound_Database/patient_diagnosis.csv', names=['pid', 'disease'])\n",
    "diagnosis.head()"
   ]
  },
  {
   "cell_type": "code",
   "execution_count": 3,
   "id": "8b67f3ef-457b-45cb-b96d-44bbff650cf1",
   "metadata": {},
   "outputs": [
    {
     "data": {
      "image/png": "[encoded data removed]",
      "text/plain": [
       "<Figure size 640x480 with 1 Axes>"
      ]
     },
     "metadata": {},
     "output_type": "display_data"
    }
   ],
   "source": [
    "sns.countplot(x=diagnosis['disease'])\n",
    "plt.xticks(rotation=90)\n",
    "plt.show()"
   ]
  },
  {
   "cell_type": "code",
   "execution_count": 4,
   "id": "4bb9f2d3-95af-46f3-a366-b5cc252009ba",
   "metadata": {},
   "outputs": [
    {
     "data": {
      "text/html": [
       "<div>\n",
       "<style scoped>\n",
       "    .dataframe tbody tr th:only-of-type {\n",
       "        vertical-align: middle;\n",
       "    }\n",
       "\n",
       "    .dataframe tbody tr th {\n",
       "        vertical-align: top;\n",
       "    }\n",
       "\n",
       "    .dataframe thead th {\n",
       "        text-align: right;\n",
       "    }\n",
       "</style>\n",
       "<table border=\"1\" class=\"dataframe\">\n",
       "  <thead>\n",
       "    <tr style=\"text-align: right;\">\n",
       "      <th></th>\n",
       "      <th>pid</th>\n",
       "      <th>filename</th>\n",
       "    </tr>\n",
       "  </thead>\n",
       "  <tbody>\n",
       "    <tr>\n",
       "      <th>0</th>\n",
       "      <td>158</td>\n",
       "      <td>158_1p3_Pl_mc_AKGC417L_7.wav</td>\n",
       "    </tr>\n",
       "    <tr>\n",
       "      <th>1</th>\n",
       "      <td>201</td>\n",
       "      <td>201_1b1_Al_sc_Meditron_6.wav</td>\n",
       "    </tr>\n",
       "    <tr>\n",
       "      <th>2</th>\n",
       "      <td>130</td>\n",
       "      <td>130_1p3_Ll_mc_AKGC417L_3.wav</td>\n",
       "    </tr>\n",
       "    <tr>\n",
       "      <th>3</th>\n",
       "      <td>166</td>\n",
       "      <td>166_1p1_Pl_sc_Meditron_0.wav</td>\n",
       "    </tr>\n",
       "    <tr>\n",
       "      <th>4</th>\n",
       "      <td>170</td>\n",
       "      <td>170_1b4_Pr_mc_AKGC417L_5.wav</td>\n",
       "    </tr>\n",
       "  </tbody>\n",
       "</table>\n",
       "</div>"
      ],
      "text/plain": [
       "   pid                      filename\n",
       "0  158  158_1p3_Pl_mc_AKGC417L_7.wav\n",
       "1  201  201_1b1_Al_sc_Meditron_6.wav\n",
       "2  130  130_1p3_Ll_mc_AKGC417L_3.wav\n",
       "3  166  166_1p1_Pl_sc_Meditron_0.wav\n",
       "4  170  170_1b4_Pr_mc_AKGC417L_5.wav"
      ]
     },
     "execution_count": 4,
     "metadata": {},
     "output_type": "execute_result"
    }
   ],
   "source": [
    "preprocessed_file_dir = Path('../dataset/preprocessed_audio_files/')\n",
    "num_files = len(list(preprocessed_file_dir.iterdir()))\n",
    "df_base = []\n",
    "for file_path in preprocessed_file_dir.iterdir():\n",
    "    df_base.append({\n",
    "        'pid': file_path.stem.split('_')[0],\n",
    "        'filename': file_path.name\n",
    "    })\n",
    "files_df = pd.DataFrame(df_base)\n",
    "files_df['pid'] = files_df['pid'].astype('int64')\n",
    "files_df.head()"
   ]
  },
  {
   "cell_type": "code",
   "execution_count": 13,
   "id": "1cf81bf3-e888-4a75-a149-e31457ad4efc",
   "metadata": {},
   "outputs": [
    {
     "data": {
      "text/html": [
       "<div>\n",
       "<style scoped>\n",
       "    .dataframe tbody tr th:only-of-type {\n",
       "        vertical-align: middle;\n",
       "    }\n",
       "\n",
       "    .dataframe tbody tr th {\n",
       "        vertical-align: top;\n",
       "    }\n",
       "\n",
       "    .dataframe thead th {\n",
       "        text-align: right;\n",
       "    }\n",
       "</style>\n",
       "<table border=\"1\" class=\"dataframe\">\n",
       "  <thead>\n",
       "    <tr style=\"text-align: right;\">\n",
       "      <th></th>\n",
       "      <th>pid</th>\n",
       "      <th>filename</th>\n",
       "      <th>disease</th>\n",
       "    </tr>\n",
       "  </thead>\n",
       "  <tbody>\n",
       "    <tr>\n",
       "      <th>0</th>\n",
       "      <td>158</td>\n",
       "      <td>158_1p3_Pl_mc_AKGC417L_7.wav</td>\n",
       "      <td>COPD</td>\n",
       "    </tr>\n",
       "    <tr>\n",
       "      <th>1</th>\n",
       "      <td>158</td>\n",
       "      <td>158_1p4_Lr_mc_AKGC417L_5.wav</td>\n",
       "      <td>COPD</td>\n",
       "    </tr>\n",
       "    <tr>\n",
       "      <th>2</th>\n",
       "      <td>158</td>\n",
       "      <td>158_1p2_Ll_mc_AKGC417L_1.wav</td>\n",
       "      <td>COPD</td>\n",
       "    </tr>\n",
       "    <tr>\n",
       "      <th>3</th>\n",
       "      <td>158</td>\n",
       "      <td>158_1p3_Tc_mc_AKGC417L_8.wav</td>\n",
       "      <td>COPD</td>\n",
       "    </tr>\n",
       "    <tr>\n",
       "      <th>4</th>\n",
       "      <td>158</td>\n",
       "      <td>158_1p3_Lr_mc_AKGC417L_8.wav</td>\n",
       "      <td>COPD</td>\n",
       "    </tr>\n",
       "  </tbody>\n",
       "</table>\n",
       "</div>"
      ],
      "text/plain": [
       "   pid                      filename disease\n",
       "0  158  158_1p3_Pl_mc_AKGC417L_7.wav    COPD\n",
       "1  158  158_1p4_Lr_mc_AKGC417L_5.wav    COPD\n",
       "2  158  158_1p2_Ll_mc_AKGC417L_1.wav    COPD\n",
       "3  158  158_1p3_Tc_mc_AKGC417L_8.wav    COPD\n",
       "4  158  158_1p3_Lr_mc_AKGC417L_8.wav    COPD"
      ]
     },
     "execution_count": 13,
     "metadata": {},
     "output_type": "execute_result"
    }
   ],
   "source": [
    "data = files_df.merge(diagnosis, on='pid')\n",
    "data.head()"
   ]
  },
  {
   "cell_type": "code",
   "execution_count": 16,
   "id": "3d219e9c-646d-4ac0-98ea-c71696aa053f",
   "metadata": {},
   "outputs": [
    {
     "data": {
      "image/png": "[encoded data removed]",
      "text/plain": [
       "<Figure size 640x480 with 1 Axes>"
      ]
     },
     "metadata": {},
     "output_type": "display_data"
    }
   ],
   "source": [
    "sns.countplot(x=data.disease)\n",
    "plt.xticks(rotation=90)\n",
    "plt.show()"
   ]
  },
  {
   "cell_type": "code",
   "execution_count": 45,
   "id": "fe5a9350-7428-4248-b40b-d2bfbc67fd14",
   "metadata": {},
   "outputs": [
    {
     "data": {
      "text/html": [
       "<div>\n",
       "<style scoped>\n",
       "    .dataframe tbody tr th:only-of-type {\n",
       "        vertical-align: middle;\n",
       "    }\n",
       "\n",
       "    .dataframe tbody tr th {\n",
       "        vertical-align: top;\n",
       "    }\n",
       "\n",
       "    .dataframe thead th {\n",
       "        text-align: right;\n",
       "    }\n",
       "</style>\n",
       "<table border=\"1\" class=\"dataframe\">\n",
       "  <thead>\n",
       "    <tr style=\"text-align: right;\">\n",
       "      <th></th>\n",
       "      <th>disease</th>\n",
       "      <th>count</th>\n",
       "    </tr>\n",
       "  </thead>\n",
       "  <tbody>\n",
       "    <tr>\n",
       "      <th>3</th>\n",
       "      <td>COPD</td>\n",
       "      <td>5746</td>\n",
       "    </tr>\n",
       "    <tr>\n",
       "      <th>4</th>\n",
       "      <td>Healthy</td>\n",
       "      <td>322</td>\n",
       "    </tr>\n",
       "    <tr>\n",
       "      <th>6</th>\n",
       "      <td>Pneumonia</td>\n",
       "      <td>285</td>\n",
       "    </tr>\n",
       "    <tr>\n",
       "      <th>7</th>\n",
       "      <td>URTI</td>\n",
       "      <td>243</td>\n",
       "    </tr>\n",
       "    <tr>\n",
       "      <th>2</th>\n",
       "      <td>Bronchiolitis</td>\n",
       "      <td>160</td>\n",
       "    </tr>\n",
       "    <tr>\n",
       "      <th>1</th>\n",
       "      <td>Bronchiectasis</td>\n",
       "      <td>104</td>\n",
       "    </tr>\n",
       "    <tr>\n",
       "      <th>5</th>\n",
       "      <td>LRTI</td>\n",
       "      <td>32</td>\n",
       "    </tr>\n",
       "    <tr>\n",
       "      <th>0</th>\n",
       "      <td>Asthma</td>\n",
       "      <td>6</td>\n",
       "    </tr>\n",
       "  </tbody>\n",
       "</table>\n",
       "</div>"
      ],
      "text/plain": [
       "          disease count\n",
       "3            COPD  5746\n",
       "4         Healthy   322\n",
       "6       Pneumonia   285\n",
       "7            URTI   243\n",
       "2   Bronchiolitis   160\n",
       "1  Bronchiectasis   104\n",
       "5            LRTI    32\n",
       "0          Asthma     6"
      ]
     },
     "execution_count": 45,
     "metadata": {},
     "output_type": "execute_result"
    }
   ],
   "source": [
    "pd.DataFrame(np.unique(data['disease'], return_counts=True)).T.set_axis(['disease', 'count'], axis=1).sort_values(by='count', ascending=False)"
   ]
  },
  {
   "cell_type": "code",
   "execution_count": 53,
   "id": "8c8b8a8d-59ec-466c-bed5-5fb973f3f3cb",
   "metadata": {},
   "outputs": [],
   "source": [
    "X_train, X_val, y_train, y_val = train_test_split(data, data['disease'], stratify=data['disease'], random_state=42, test_size=0.3)\n",
    "X_val, X_test, y_val, y_test = train_test_split(X_val, y_val, stratify=y_val, random_state=42, test_size=.5)"
   ]
  },
  {
   "cell_type": "code",
   "execution_count": 54,
   "id": "f15490fb-7dd4-4a7e-8d14-de03d1a42e00",
   "metadata": {},
   "outputs": [
    {
     "data": {
      "text/plain": [
       "COPD              0.833057\n",
       "Healthy           0.046603\n",
       "Pneumonia         0.041425\n",
       "URTI              0.035211\n",
       "Bronchiolitis     0.023198\n",
       "Bronchiectasis    0.015120\n",
       "LRTI              0.004557\n",
       "Asthma            0.000829\n",
       "Name: disease, dtype: float64"
      ]
     },
     "execution_count": 54,
     "metadata": {},
     "output_type": "execute_result"
    }
   ],
   "source": [
    "X_train['disease'].value_counts() / len(X_train)"
   ]
  },
  {
   "cell_type": "code",
   "execution_count": 55,
   "id": "dd9c1c53-e072-432a-b8f6-8e91bb83eadd",
   "metadata": {},
   "outputs": [
    {
     "data": {
      "text/plain": [
       "COPD              0.832850\n",
       "Healthy           0.047343\n",
       "Pneumonia         0.040580\n",
       "URTI              0.035749\n",
       "Bronchiolitis     0.023188\n",
       "Bronchiectasis    0.014493\n",
       "LRTI              0.004831\n",
       "Asthma            0.000966\n",
       "Name: disease, dtype: float64"
      ]
     },
     "execution_count": 55,
     "metadata": {},
     "output_type": "execute_result"
    }
   ],
   "source": [
    "X_val['disease'].value_counts() / len(X_val)"
   ]
  },
  {
   "cell_type": "code",
   "execution_count": 56,
   "id": "ea13e98b-4150-45cd-9588-4f93d013dd19",
   "metadata": {},
   "outputs": [
    {
     "data": {
      "text/plain": [
       "COPD              0.832850\n",
       "Healthy           0.046377\n",
       "Pneumonia         0.041546\n",
       "URTI              0.034783\n",
       "Bronchiolitis     0.023188\n",
       "Bronchiectasis    0.015459\n",
       "LRTI              0.004831\n",
       "Asthma            0.000966\n",
       "Name: disease, dtype: float64"
      ]
     },
     "execution_count": 56,
     "metadata": {},
     "output_type": "execute_result"
    }
   ],
   "source": [
    "X_test['disease'].value_counts() / len(X_test)"
   ]
  },
  {
   "cell_type": "code",
   "execution_count": 32,
   "id": "66d63507-6b93-45cb-8318-63a6ebf2080b",
   "metadata": {},
   "outputs": [],
   "source": [
    "X_train.to_csv('train.csv', index=False)\n",
    "X_val.to_csv('val.csv', index=False)\n",
    "X_test.to_csv('test.csv', index=False)"
   ]
  },
  {
   "cell_type": "code",
   "execution_count": 60,
   "id": "e3ebc6cc-aec6-41e1-89a2-143a0d5ae717",
   "metadata": {},
   "outputs": [],
   "source": [
    "for train_filename in X_train['filename'].to_list():\n",
    "    for val_filename in X_val['filename'].to_list():\n",
    "        assert train_filename != val_filename, '学習データと検証用データが一致していないこと'\n",
    "    for test_filename in X_test['filename'].to_list():\n",
    "        assert train_filename != test_filename, '学習データとテストデータ一致していないこと'\n",
    "\n",
    "for val_filename in X_val['filename'].to_list():\n",
    "    for test_filename in X_test['filename'].to_list():\n",
    "        assert val_filename != test_filename, '検証用データとテストデータ一致していないこと' \n"
   ]
  },
  {
   "cell_type": "code",
   "execution_count": null,
   "id": "72ef6850-4b2e-4bf6-a195-0d771563bef7",
   "metadata": {},
   "outputs": [],
   "source": []
  }
 ],
 "metadata": {
  "kernelspec": {
   "display_name": "Python 3 (ipykernel)",
   "language": "python",
   "name": "python3"
  },
  "language_info": {
   "codemirror_mode": {
    "name": "ipython",
    "version": 3
   },
   "file_extension": ".py",
   "mimetype": "text/x-python",
   "name": "python",
   "nbconvert_exporter": "python",
   "pygments_lexer": "ipython3",
   "version": "3.8.10"
  }
 },
 "nbformat": 4,
 "nbformat_minor": 5
}
