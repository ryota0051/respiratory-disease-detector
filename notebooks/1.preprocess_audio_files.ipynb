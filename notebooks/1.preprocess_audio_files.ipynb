{
 "cells": [
  {
   "cell_type": "code",
   "execution_count": 6,
   "id": "50934ff1-42a2-4815-8d97-09e3b1b3bf0e",
   "metadata": {},
   "outputs": [],
   "source": [
    "from pathlib import Path\n",
    "\n",
    "from tqdm import tqdm\n",
    "import numpy as np\n",
    "import pandas as pd\n",
    "import tensorflow as tf\n",
    "from tensorflow import keras\n",
    "import matplotlib.pyplot as plt\n",
    "import seaborn as sns\n",
    "import librosa as lb\n",
    "import librosa.display\n",
    "import soundfile as sf"
   ]
  },
  {
   "cell_type": "markdown",
   "id": "491aa7a6-da58-43cb-8f50-90674d2174ca",
   "metadata": {},
   "source": [
    "## データ確認"
   ]
  },
  {
   "cell_type": "markdown",
   "id": "33dda93e-b055-4f17-8237-e6d5599b5998",
   "metadata": {},
   "source": [
    "- patient_diagnosis.csv の確認\n",
    "\n",
    "    - pid: 患者ID\n",
    "\n",
    "    - disease: 病名"
   ]
  },
  {
   "cell_type": "code",
   "execution_count": 8,
   "id": "13b15a6b-80f9-4c06-959b-fcb563e2c85a",
   "metadata": {},
   "outputs": [
    {
     "data": {
      "text/html": [
       "<div>\n",
       "<style scoped>\n",
       "    .dataframe tbody tr th:only-of-type {\n",
       "        vertical-align: middle;\n",
       "    }\n",
       "\n",
       "    .dataframe tbody tr th {\n",
       "        vertical-align: top;\n",
       "    }\n",
       "\n",
       "    .dataframe thead th {\n",
       "        text-align: right;\n",
       "    }\n",
       "</style>\n",
       "<table border=\"1\" class=\"dataframe\">\n",
       "  <thead>\n",
       "    <tr style=\"text-align: right;\">\n",
       "      <th></th>\n",
       "      <th>pid</th>\n",
       "      <th>disease</th>\n",
       "    </tr>\n",
       "  </thead>\n",
       "  <tbody>\n",
       "    <tr>\n",
       "      <th>0</th>\n",
       "      <td>101</td>\n",
       "      <td>URTI</td>\n",
       "    </tr>\n",
       "    <tr>\n",
       "      <th>1</th>\n",
       "      <td>102</td>\n",
       "      <td>Healthy</td>\n",
       "    </tr>\n",
       "    <tr>\n",
       "      <th>2</th>\n",
       "      <td>103</td>\n",
       "      <td>Asthma</td>\n",
       "    </tr>\n",
       "    <tr>\n",
       "      <th>3</th>\n",
       "      <td>104</td>\n",
       "      <td>COPD</td>\n",
       "    </tr>\n",
       "    <tr>\n",
       "      <th>4</th>\n",
       "      <td>105</td>\n",
       "      <td>URTI</td>\n",
       "    </tr>\n",
       "  </tbody>\n",
       "</table>\n",
       "</div>"
      ],
      "text/plain": [
       "   pid  disease\n",
       "0  101     URTI\n",
       "1  102  Healthy\n",
       "2  103   Asthma\n",
       "3  104     COPD\n",
       "4  105     URTI"
      ]
     },
     "execution_count": 8,
     "metadata": {},
     "output_type": "execute_result"
    }
   ],
   "source": [
    "patient_data = pd.read_csv('../dataset/Respiratory_Sound_Database/Respiratory_Sound_Database/Respiratory_Sound_Database/patient_diagnosis.csv', names=['pid', 'disease'])\n",
    "patient_data.head()"
   ]
  },
  {
   "cell_type": "markdown",
   "id": "b3f219e0-78f4-4f52-aa15-e99c02918534",
   "metadata": {},
   "source": [
    "- 音声ファイルと同ディレクトリにある「txt.」ファイルの確認\n",
    "\n",
    "    - start: 呼吸の始まり\n",
    "    \n",
    "    - end: 呼吸の終わり\n",
    "    \n",
    "    - crackles: 呼吸器系の破裂音などの有無(https://www.almediaweb.jp/glossary/0236.html#:~:text=肺の聴診で聞か,性、断続性の音。) => 1: 発生している, 0: 発生していない\n",
    "\n",
    "    - weezels: 喘息の有無 => 1: 発生している, 0: 発生していない"
   ]
  },
  {
   "cell_type": "code",
   "execution_count": 9,
   "id": "cb4debf3-44b3-4d25-8418-afc629eda63b",
   "metadata": {},
   "outputs": [
    {
     "data": {
      "text/html": [
       "<div>\n",
       "<style scoped>\n",
       "    .dataframe tbody tr th:only-of-type {\n",
       "        vertical-align: middle;\n",
       "    }\n",
       "\n",
       "    .dataframe tbody tr th {\n",
       "        vertical-align: top;\n",
       "    }\n",
       "\n",
       "    .dataframe thead th {\n",
       "        text-align: right;\n",
       "    }\n",
       "</style>\n",
       "<table border=\"1\" class=\"dataframe\">\n",
       "  <thead>\n",
       "    <tr style=\"text-align: right;\">\n",
       "      <th></th>\n",
       "      <th>start</th>\n",
       "      <th>end</th>\n",
       "      <th>crackles</th>\n",
       "      <th>weezels</th>\n",
       "    </tr>\n",
       "  </thead>\n",
       "  <tbody>\n",
       "    <tr>\n",
       "      <th>0</th>\n",
       "      <td>1.862</td>\n",
       "      <td>5.718</td>\n",
       "      <td>0</td>\n",
       "      <td>1</td>\n",
       "    </tr>\n",
       "    <tr>\n",
       "      <th>1</th>\n",
       "      <td>5.718</td>\n",
       "      <td>9.725</td>\n",
       "      <td>1</td>\n",
       "      <td>1</td>\n",
       "    </tr>\n",
       "    <tr>\n",
       "      <th>2</th>\n",
       "      <td>9.725</td>\n",
       "      <td>13.614</td>\n",
       "      <td>0</td>\n",
       "      <td>1</td>\n",
       "    </tr>\n",
       "    <tr>\n",
       "      <th>3</th>\n",
       "      <td>13.614</td>\n",
       "      <td>17.671</td>\n",
       "      <td>0</td>\n",
       "      <td>1</td>\n",
       "    </tr>\n",
       "    <tr>\n",
       "      <th>4</th>\n",
       "      <td>17.671</td>\n",
       "      <td>19.541</td>\n",
       "      <td>0</td>\n",
       "      <td>0</td>\n",
       "    </tr>\n",
       "  </tbody>\n",
       "</table>\n",
       "</div>"
      ],
      "text/plain": [
       "    start     end  crackles  weezels\n",
       "0   1.862   5.718         0        1\n",
       "1   5.718   9.725         1        1\n",
       "2   9.725  13.614         0        1\n",
       "3  13.614  17.671         0        1\n",
       "4  17.671  19.541         0        0"
      ]
     },
     "execution_count": 9,
     "metadata": {},
     "output_type": "execute_result"
    }
   ],
   "source": [
    "df = pd.read_csv('../dataset/Respiratory_Sound_Database/Respiratory_Sound_Database/Respiratory_Sound_Database/audio_and_txt_files/160_1b3_Al_mc_AKGC417L.txt', sep='\\t', names=['start', 'end', 'crackles', 'weezels'])\n",
    "df.head()"
   ]
  },
  {
   "cell_type": "markdown",
   "id": "b8578222-4d07-4171-8efe-453717b7bbd2",
   "metadata": {},
   "source": [
    "- 音声ファイル: 命名規則は下記の通り\n",
    "\n",
    "  患者id_レコードid_胸の位置_取得モード_機器\n",
    "  \n",
    "  - 胸の位置\n",
    "  \n",
    "    a. Trachea (Tc)\n",
    "    \n",
    "    b. Anterior left (Al) \n",
    "    \n",
    "    c. Anterior right (Ar)\n",
    "    \n",
    "    d. Posterior left (Pl)\n",
    "    \n",
    "    e. Posterior right (Pr)\n",
    "    \n",
    "    f. Lateral left (Ll)\n",
    "    \n",
    "    g. Lateral right (Lr)\n",
    "\n",
    "  - 取得モード\n",
    "\n",
    "    a. シングルチャンネルモード(sc)\n",
    "        \n",
    "    b. マルチチャンネルモード(mc)\n"
   ]
  },
  {
   "cell_type": "code",
   "execution_count": 3,
   "id": "fc7500bf-39c7-4b4f-9752-094dbf3a17d3",
   "metadata": {},
   "outputs": [
    {
     "data": {
      "text/plain": [
       "'130_1p4_Pl_mc_AKGC417L'"
      ]
     },
     "execution_count": 3,
     "metadata": {},
     "output_type": "execute_result"
    }
   ],
   "source": [
    "file_list = list(Path('../dataset/Respiratory_Sound_Database/Respiratory_Sound_Database/Respiratory_Sound_Database/audio_and_txt_files/').glob('*.txt'))\n",
    "file_list = [file_path.stem for file_path in file_list]\n",
    "file_list[0]"
   ]
  },
  {
   "cell_type": "code",
   "execution_count": 4,
   "id": "b21c639b-b058-44dc-997b-10cd5a9a147c",
   "metadata": {},
   "outputs": [],
   "source": [
    "def get_file_name_info(filename: str):\n",
    "    return filename.split('_')"
   ]
  },
  {
   "cell_type": "code",
   "execution_count": 19,
   "id": "0d4529e6-03cf-421d-8360-6896a27c606c",
   "metadata": {},
   "outputs": [
    {
     "data": {
      "text/plain": [
       "['130', '1p4', 'Pl', 'mc', 'AKGC417L']"
      ]
     },
     "execution_count": 19,
     "metadata": {},
     "output_type": "execute_result"
    }
   ],
   "source": [
    "get_file_name_info(file_list[0])"
   ]
  },
  {
   "cell_type": "markdown",
   "id": "e6b9bcfc-c602-4b9c-a96e-0d7018f65498",
   "metadata": {},
   "source": [
    "## txtファイル名とその中身からメタ情報データフレームを作成"
   ]
  },
  {
   "cell_type": "code",
   "execution_count": 5,
   "id": "aa293967-7aff-4426-99af-e42fc0e5d269",
   "metadata": {},
   "outputs": [
    {
     "data": {
      "text/html": [
       "<div>\n",
       "<style scoped>\n",
       "    .dataframe tbody tr th:only-of-type {\n",
       "        vertical-align: middle;\n",
       "    }\n",
       "\n",
       "    .dataframe tbody tr th {\n",
       "        vertical-align: top;\n",
       "    }\n",
       "\n",
       "    .dataframe thead th {\n",
       "        text-align: right;\n",
       "    }\n",
       "</style>\n",
       "<table border=\"1\" class=\"dataframe\">\n",
       "  <thead>\n",
       "    <tr style=\"text-align: right;\">\n",
       "      <th></th>\n",
       "      <th>start</th>\n",
       "      <th>end</th>\n",
       "      <th>crackles</th>\n",
       "      <th>weezels</th>\n",
       "      <th>pid</th>\n",
       "      <th>mode</th>\n",
       "      <th>filename</th>\n",
       "    </tr>\n",
       "  </thead>\n",
       "  <tbody>\n",
       "    <tr>\n",
       "      <th>0</th>\n",
       "      <td>0.089</td>\n",
       "      <td>2.875</td>\n",
       "      <td>0</td>\n",
       "      <td>1</td>\n",
       "      <td>130</td>\n",
       "      <td>mc</td>\n",
       "      <td>130_1p4_Pl_mc_AKGC417L</td>\n",
       "    </tr>\n",
       "    <tr>\n",
       "      <th>1</th>\n",
       "      <td>2.875</td>\n",
       "      <td>6.137</td>\n",
       "      <td>0</td>\n",
       "      <td>1</td>\n",
       "      <td>130</td>\n",
       "      <td>mc</td>\n",
       "      <td>130_1p4_Pl_mc_AKGC417L</td>\n",
       "    </tr>\n",
       "    <tr>\n",
       "      <th>2</th>\n",
       "      <td>6.137</td>\n",
       "      <td>8.994</td>\n",
       "      <td>0</td>\n",
       "      <td>1</td>\n",
       "      <td>130</td>\n",
       "      <td>mc</td>\n",
       "      <td>130_1p4_Pl_mc_AKGC417L</td>\n",
       "    </tr>\n",
       "    <tr>\n",
       "      <th>3</th>\n",
       "      <td>8.994</td>\n",
       "      <td>11.875</td>\n",
       "      <td>0</td>\n",
       "      <td>1</td>\n",
       "      <td>130</td>\n",
       "      <td>mc</td>\n",
       "      <td>130_1p4_Pl_mc_AKGC417L</td>\n",
       "    </tr>\n",
       "    <tr>\n",
       "      <th>4</th>\n",
       "      <td>11.875</td>\n",
       "      <td>14.554</td>\n",
       "      <td>0</td>\n",
       "      <td>1</td>\n",
       "      <td>130</td>\n",
       "      <td>mc</td>\n",
       "      <td>130_1p4_Pl_mc_AKGC417L</td>\n",
       "    </tr>\n",
       "  </tbody>\n",
       "</table>\n",
       "</div>"
      ],
      "text/plain": [
       "    start     end  crackles  weezels  pid mode                filename\n",
       "0   0.089   2.875         0        1  130   mc  130_1p4_Pl_mc_AKGC417L\n",
       "1   2.875   6.137         0        1  130   mc  130_1p4_Pl_mc_AKGC417L\n",
       "2   6.137   8.994         0        1  130   mc  130_1p4_Pl_mc_AKGC417L\n",
       "3   8.994  11.875         0        1  130   mc  130_1p4_Pl_mc_AKGC417L\n",
       "4  11.875  14.554         0        1  130   mc  130_1p4_Pl_mc_AKGC417L"
      ]
     },
     "execution_count": 5,
     "metadata": {},
     "output_type": "execute_result"
    }
   ],
   "source": [
    "files_data = []\n",
    "data_path = '../dataset/Respiratory_Sound_Database/Respiratory_Sound_Database/Respiratory_Sound_Database/audio_and_txt_files/'\n",
    "for file in file_list:\n",
    "    data = pd.read_csv(\n",
    "        str(Path(data_path) / f'{file}.txt'),\n",
    "        sep='\\t',\n",
    "        names=['start', 'end', 'crackles', 'weezels']\n",
    "    )\n",
    "    file_name_data = get_file_name_info(file)\n",
    "    data['pid'] = file_name_data[0]\n",
    "    data['mode'] = file_name_data[-2]\n",
    "    data['filename'] = file\n",
    "    files_data.append(data)\n",
    "files_df = pd.concat(files_data)\n",
    "files_df.reset_index()\n",
    "files_df.head()"
   ]
  },
  {
   "cell_type": "markdown",
   "id": "5533960c-c920-46d1-a55c-8e18463ada94",
   "metadata": {},
   "source": [
    "## 患者情報df(patient_diagnosis.csv)とファイルメタ情報dfを「pid」をキーとして結合"
   ]
  },
  {
   "cell_type": "code",
   "execution_count": 6,
   "id": "eac05565-9a85-4f0b-a74e-d76a45605bbf",
   "metadata": {},
   "outputs": [
    {
     "name": "stdout",
     "output_type": "stream",
     "text": [
      "<class 'pandas.core.frame.DataFrame'>\n",
      "Int64Index: 6898 entries, 0 to 3\n",
      "Data columns (total 7 columns):\n",
      " #   Column    Non-Null Count  Dtype  \n",
      "---  ------    --------------  -----  \n",
      " 0   start     6898 non-null   float64\n",
      " 1   end       6898 non-null   float64\n",
      " 2   crackles  6898 non-null   int64  \n",
      " 3   weezels   6898 non-null   int64  \n",
      " 4   pid       6898 non-null   object \n",
      " 5   mode      6898 non-null   object \n",
      " 6   filename  6898 non-null   object \n",
      "dtypes: float64(2), int64(2), object(3)\n",
      "memory usage: 431.1+ KB\n"
     ]
    }
   ],
   "source": [
    "files_df.info()"
   ]
  },
  {
   "cell_type": "code",
   "execution_count": 10,
   "id": "b9dfda52-f7cd-4acd-94a6-d6b21cc81e56",
   "metadata": {},
   "outputs": [
    {
     "name": "stdout",
     "output_type": "stream",
     "text": [
      "<class 'pandas.core.frame.DataFrame'>\n",
      "RangeIndex: 126 entries, 0 to 125\n",
      "Data columns (total 2 columns):\n",
      " #   Column   Non-Null Count  Dtype \n",
      "---  ------   --------------  ----- \n",
      " 0   pid      126 non-null    int64 \n",
      " 1   disease  126 non-null    object\n",
      "dtypes: int64(1), object(1)\n",
      "memory usage: 2.1+ KB\n"
     ]
    }
   ],
   "source": [
    "patient_data.info()"
   ]
  },
  {
   "cell_type": "code",
   "execution_count": 11,
   "id": "d2ad24b4-50c1-48df-bceb-c9d70167a1e8",
   "metadata": {},
   "outputs": [],
   "source": [
    "files_df['pid'] = files_df['pid'].astype('int32')\n",
    "patient_data['pid'] = patient_data['pid'].astype('int32')"
   ]
  },
  {
   "cell_type": "code",
   "execution_count": 12,
   "id": "f7c27d45-c439-4d58-a426-dae3a6e1284a",
   "metadata": {},
   "outputs": [
    {
     "data": {
      "text/html": [
       "<div>\n",
       "<style scoped>\n",
       "    .dataframe tbody tr th:only-of-type {\n",
       "        vertical-align: middle;\n",
       "    }\n",
       "\n",
       "    .dataframe tbody tr th {\n",
       "        vertical-align: top;\n",
       "    }\n",
       "\n",
       "    .dataframe thead th {\n",
       "        text-align: right;\n",
       "    }\n",
       "</style>\n",
       "<table border=\"1\" class=\"dataframe\">\n",
       "  <thead>\n",
       "    <tr style=\"text-align: right;\">\n",
       "      <th></th>\n",
       "      <th>start</th>\n",
       "      <th>end</th>\n",
       "      <th>crackles</th>\n",
       "      <th>weezels</th>\n",
       "      <th>pid</th>\n",
       "      <th>mode</th>\n",
       "      <th>filename</th>\n",
       "      <th>disease</th>\n",
       "    </tr>\n",
       "  </thead>\n",
       "  <tbody>\n",
       "    <tr>\n",
       "      <th>0</th>\n",
       "      <td>0.089</td>\n",
       "      <td>2.875</td>\n",
       "      <td>0</td>\n",
       "      <td>1</td>\n",
       "      <td>130</td>\n",
       "      <td>mc</td>\n",
       "      <td>130_1p4_Pl_mc_AKGC417L</td>\n",
       "      <td>COPD</td>\n",
       "    </tr>\n",
       "    <tr>\n",
       "      <th>1</th>\n",
       "      <td>2.875</td>\n",
       "      <td>6.137</td>\n",
       "      <td>0</td>\n",
       "      <td>1</td>\n",
       "      <td>130</td>\n",
       "      <td>mc</td>\n",
       "      <td>130_1p4_Pl_mc_AKGC417L</td>\n",
       "      <td>COPD</td>\n",
       "    </tr>\n",
       "    <tr>\n",
       "      <th>2</th>\n",
       "      <td>6.137</td>\n",
       "      <td>8.994</td>\n",
       "      <td>0</td>\n",
       "      <td>1</td>\n",
       "      <td>130</td>\n",
       "      <td>mc</td>\n",
       "      <td>130_1p4_Pl_mc_AKGC417L</td>\n",
       "      <td>COPD</td>\n",
       "    </tr>\n",
       "    <tr>\n",
       "      <th>3</th>\n",
       "      <td>8.994</td>\n",
       "      <td>11.875</td>\n",
       "      <td>0</td>\n",
       "      <td>1</td>\n",
       "      <td>130</td>\n",
       "      <td>mc</td>\n",
       "      <td>130_1p4_Pl_mc_AKGC417L</td>\n",
       "      <td>COPD</td>\n",
       "    </tr>\n",
       "    <tr>\n",
       "      <th>4</th>\n",
       "      <td>11.875</td>\n",
       "      <td>14.554</td>\n",
       "      <td>0</td>\n",
       "      <td>1</td>\n",
       "      <td>130</td>\n",
       "      <td>mc</td>\n",
       "      <td>130_1p4_Pl_mc_AKGC417L</td>\n",
       "      <td>COPD</td>\n",
       "    </tr>\n",
       "  </tbody>\n",
       "</table>\n",
       "</div>"
      ],
      "text/plain": [
       "    start     end  crackles  weezels  pid mode                filename disease\n",
       "0   0.089   2.875         0        1  130   mc  130_1p4_Pl_mc_AKGC417L    COPD\n",
       "1   2.875   6.137         0        1  130   mc  130_1p4_Pl_mc_AKGC417L    COPD\n",
       "2   6.137   8.994         0        1  130   mc  130_1p4_Pl_mc_AKGC417L    COPD\n",
       "3   8.994  11.875         0        1  130   mc  130_1p4_Pl_mc_AKGC417L    COPD\n",
       "4  11.875  14.554         0        1  130   mc  130_1p4_Pl_mc_AKGC417L    COPD"
      ]
     },
     "execution_count": 12,
     "metadata": {},
     "output_type": "execute_result"
    }
   ],
   "source": [
    "data = files_df.merge(patient_data, on='pid')\n",
    "data.head()"
   ]
  },
  {
   "cell_type": "code",
   "execution_count": 13,
   "id": "8b3356d3-ad71-4c6f-b74f-dddab01463db",
   "metadata": {},
   "outputs": [],
   "source": [
    "csv_save_dir_path = Path('../dataset/csv_data')\n",
    "csv_save_dir_path.mkdir(exist_ok=True)\n",
    "data.to_csv(str(csv_save_dir_path / 'data.csv'), index=False)"
   ]
  },
  {
   "cell_type": "markdown",
   "id": "16f2716f-c660-4347-83e4-5b3daa49e388",
   "metadata": {},
   "source": [
    "## 音声ファイルの前処理と保存"
   ]
  },
  {
   "cell_type": "code",
   "execution_count": 2,
   "id": "319bcae2-0b4b-4993-8c61-755d07f9969a",
   "metadata": {},
   "outputs": [],
   "source": [
    "def get_pure_sample(raw_data: np.ndarray, start: float, end: float, sampling_rate=22050):\n",
    "    \"\"\"生データのstart~endを切り抜く\n",
    "    Args:\n",
    "        raw_data: 音声データ\n",
    "        start: 開始時間(sec)\n",
    "        end: 終了時間(sec)\n",
    "        sampling_rate: サンプリングレート(Hz)\n",
    "    \"\"\"\n",
    "    data_length = len(raw_data)\n",
    "    # start(sec)とsampling_rate(22050 Hz = 1/sec)をかけて最初データインデックスを取得\n",
    "    start_idx = min(int(start * sampling_rate), data_length)\n",
    "    # end(sec)とsampling_rate(22050 Hz = 1/sec)をかけて最終データインデックスを取得\n",
    "    end_idx = min(int(end * sampling_rate), data_length)\n",
    "    return raw_data[start_idx:end_idx]"
   ]
  },
  {
   "cell_type": "markdown",
   "id": "20ba1864-299e-4d03-9190-61f0cb1e810e",
   "metadata": {},
   "source": [
    "音声の開始 ~ 終了の分布確認\n",
    "\n",
    "- 外れ値を除くと概ね6秒程度\n",
    "\n",
    "    - 6秒以下のデータは0埋めなどで対応\n",
    "    \n",
    "    - 6秒を超える場合は、end=start〜6秒までを取得する\n",
    "   "
   ]
  },
  {
   "cell_type": "code",
   "execution_count": 3,
   "id": "7e8f2844-4780-49ab-b307-b42b0fd6c21a",
   "metadata": {},
   "outputs": [
    {
     "data": {
      "image/png": "[encoded data removed]",
      "text/plain": [
       "<Figure size 500x500 with 1 Axes>"
      ]
     },
     "metadata": {},
     "output_type": "display_data"
    }
   ],
   "source": [
    "data = pd.read_csv('../dataset/csv_data/data.csv')\n",
    "fig, ax = plt.subplots(figsize=(5, 5))\n",
    "sns.scatterplot(x=(data['end'] - data['start']), y=data['pid'], ax=ax)\n",
    "ax.set_xlabel('end - start (sec)')\n",
    "plt.show()"
   ]
  },
  {
   "cell_type": "code",
   "execution_count": 4,
   "id": "5b011bad-332b-4ff8-ae90-350d6d770ed8",
   "metadata": {},
   "outputs": [
    {
     "data": {
      "image/png": "[encoded data removed]",
      "text/plain": [
       "<Figure size 500x500 with 1 Axes>"
      ]
     },
     "metadata": {},
     "output_type": "display_data"
    }
   ],
   "source": [
    "fig, ax = plt.subplots(figsize=(5, 5))\n",
    "sns.boxplot(y=(data['end'] - data['start']), ax=ax)\n",
    "ax.set_ylabel('end - start (sec)')\n",
    "plt.show()"
   ]
  },
  {
   "cell_type": "code",
   "execution_count": 13,
   "id": "674f3dbd-0bb2-4bb9-bc8e-31393fba88d9",
   "metadata": {},
   "outputs": [
    {
     "name": "stderr",
     "output_type": "stream",
     "text": [
      "  0% 0/6898 [00:00<?, ?it/s]/tmp/ipykernel_14/2652401171.py:21: FutureWarning: Pass size=132300 as keyword args. From version 0.10 passing these as positional arguments will result in an error\n",
      "  padded_data = lb.util.pad_center(pure_sample, require_length)\n",
      "100% 6898/6898 [39:41<00:00,  2.90it/s]"
     ]
    },
    {
     "name": "stdout",
     "output_type": "stream",
     "text": [
      "file num: 6898\n"
     ]
    },
    {
     "name": "stderr",
     "output_type": "stream",
     "text": [
      "\n"
     ]
    }
   ],
   "source": [
    "file_id, file_num_counter = 0, 0\n",
    "max_len = 6\n",
    "data = pd.read_csv('../dataset/csv_data/data.csv')\n",
    "src_audio_path_dir = Path('../dataset/Respiratory_Sound_Database/Respiratory_Sound_Database/Respiratory_Sound_Database/audio_and_txt_files/')\n",
    "dst_audio_path_dir = Path('../dataset/preprocessed_audio_files')\n",
    "dst_audio_path_dir.mkdir(exist_ok=True)\n",
    "for index, row in tqdm(data.iterrows(), total=len(data)):\n",
    "    start = row['start']\n",
    "    end = row['end']\n",
    "    filename = row['filename']\n",
    "    \n",
    "    # 音声ファイルの読み込み\n",
    "    src_audio_path = src_audio_path_dir / f'{filename}.wav'\n",
    "    audio_arr, sample_rate = lb.load(src_audio_path)\n",
    "    # 開始 ~ 終了の長さが6秒より大きい場合は、終了を開始〜6秒にする。\n",
    "    if end - start > max_len:\n",
    "        end = start + max_len\n",
    "    pure_sample = get_pure_sample(audio_arr, start, end, sample_rate)\n",
    "\n",
    "    # max_len以下の長さをパディング\n",
    "    require_length = max_len * sample_rate\n",
    "    padded_data = lb.util.pad_center(pure_sample, require_length)\n",
    "    \n",
    "    # ファイルの出力\n",
    "    if index > 0:\n",
    "        # 同じファイルが続く場合は、「元ファイル名_i.wav」として保存するため、iを1増やす\n",
    "        if data.iloc[index - 1]['filename'] == filename:\n",
    "            file_id += 1\n",
    "        # 新規ファイルに該当するので、iを0で初期化\n",
    "        else:\n",
    "            file_id = 0\n",
    "    dst_filename = f'{filename}_{file_id}.wav'\n",
    "    dst = dst_audio_path_dir / dst_filename\n",
    "    sf.write(file=dst, data=padded_data, samplerate=sample_rate)\n",
    "    file_num_counter += 1\n",
    "print(f'file num: {file_num_counter}')"
   ]
  },
  {
   "cell_type": "code",
   "execution_count": null,
   "id": "a9a05f11-f17d-4b12-a85e-3af8169f2aa7",
   "metadata": {},
   "outputs": [],
   "source": []
  }
 ],
 "metadata": {
  "kernelspec": {
   "display_name": "Python 3 (ipykernel)",
   "language": "python",
   "name": "python3"
  },
  "language_info": {
   "codemirror_mode": {
    "name": "ipython",
    "version": 3
   },
   "file_extension": ".py",
   "mimetype": "text/x-python",
   "name": "python",
   "nbconvert_exporter": "python",
   "pygments_lexer": "ipython3",
   "version": "3.8.10"
  }
 },
 "nbformat": 4,
 "nbformat_minor": 5
}
